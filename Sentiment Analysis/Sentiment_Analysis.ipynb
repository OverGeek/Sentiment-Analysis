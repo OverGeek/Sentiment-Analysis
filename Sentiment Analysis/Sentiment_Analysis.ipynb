{
 "cells": [
  {
   "cell_type": "markdown",
   "metadata": {},
   "source": [
    "### Checking Out Dataset"
   ]
  },
  {
   "cell_type": "code",
   "execution_count": 1,
   "metadata": {
    "collapsed": true
   },
   "outputs": [],
   "source": [
    "import pandas as pd"
   ]
  },
  {
   "cell_type": "code",
   "execution_count": 2,
   "metadata": {
    "collapsed": true
   },
   "outputs": [],
   "source": [
    "train_data = pd.read_csv('data/train_emoji.csv')\n",
    "test_data = pd.read_csv('data/tess.csv')"
   ]
  },
  {
   "cell_type": "code",
   "execution_count": 3,
   "metadata": {},
   "outputs": [
    {
     "data": {
      "text/html": [
       "<div>\n",
       "<table border=\"1\" class=\"dataframe\">\n",
       "  <thead>\n",
       "    <tr style=\"text-align: right;\">\n",
       "      <th></th>\n",
       "      <th>never talk to me again</th>\n",
       "      <th>3</th>\n",
       "      <th>Unnamed: 2</th>\n",
       "      <th>Unnamed: 3</th>\n",
       "    </tr>\n",
       "  </thead>\n",
       "  <tbody>\n",
       "    <tr>\n",
       "      <th>0</th>\n",
       "      <td>I am proud of your achievements</td>\n",
       "      <td>2</td>\n",
       "      <td>NaN</td>\n",
       "      <td>NaN</td>\n",
       "    </tr>\n",
       "    <tr>\n",
       "      <th>1</th>\n",
       "      <td>It is the worst day in my life</td>\n",
       "      <td>3</td>\n",
       "      <td>NaN</td>\n",
       "      <td>NaN</td>\n",
       "    </tr>\n",
       "    <tr>\n",
       "      <th>2</th>\n",
       "      <td>Miss you so much</td>\n",
       "      <td>0</td>\n",
       "      <td>NaN</td>\n",
       "      <td>[0]</td>\n",
       "    </tr>\n",
       "    <tr>\n",
       "      <th>3</th>\n",
       "      <td>food is life</td>\n",
       "      <td>4</td>\n",
       "      <td>NaN</td>\n",
       "      <td>NaN</td>\n",
       "    </tr>\n",
       "    <tr>\n",
       "      <th>4</th>\n",
       "      <td>I love you mum</td>\n",
       "      <td>0</td>\n",
       "      <td>NaN</td>\n",
       "      <td>NaN</td>\n",
       "    </tr>\n",
       "  </tbody>\n",
       "</table>\n",
       "</div>"
      ],
      "text/plain": [
       "            never talk to me again  3  Unnamed: 2 Unnamed: 3\n",
       "0  I am proud of your achievements  2         NaN        NaN\n",
       "1   It is the worst day in my life  3         NaN        NaN\n",
       "2                 Miss you so much  0         NaN        [0]\n",
       "3                     food is life  4         NaN        NaN\n",
       "4                   I love you mum  0         NaN        NaN"
      ]
     },
     "execution_count": 3,
     "metadata": {},
     "output_type": "execute_result"
    }
   ],
   "source": [
    "train_data.head()"
   ]
  },
  {
   "cell_type": "code",
   "execution_count": 4,
   "metadata": {},
   "outputs": [
    {
     "data": {
      "text/html": [
       "<div>\n",
       "<table border=\"1\" class=\"dataframe\">\n",
       "  <thead>\n",
       "    <tr style=\"text-align: right;\">\n",
       "      <th></th>\n",
       "      <th>I want to eat</th>\n",
       "      <th>4</th>\n",
       "    </tr>\n",
       "  </thead>\n",
       "  <tbody>\n",
       "    <tr>\n",
       "      <th>0</th>\n",
       "      <td>he did not answer\\t</td>\n",
       "      <td>3</td>\n",
       "    </tr>\n",
       "    <tr>\n",
       "      <th>1</th>\n",
       "      <td>he got a raise\\t</td>\n",
       "      <td>2</td>\n",
       "    </tr>\n",
       "    <tr>\n",
       "      <th>2</th>\n",
       "      <td>she got me a present\\t</td>\n",
       "      <td>2</td>\n",
       "    </tr>\n",
       "    <tr>\n",
       "      <th>3</th>\n",
       "      <td>ha ha ha it was so funny\\t</td>\n",
       "      <td>2</td>\n",
       "    </tr>\n",
       "    <tr>\n",
       "      <th>4</th>\n",
       "      <td>he is a good friend\\t</td>\n",
       "      <td>2</td>\n",
       "    </tr>\n",
       "  </tbody>\n",
       "</table>\n",
       "</div>"
      ],
      "text/plain": [
       "              I want to eat\\t  4\n",
       "0         he did not answer\\t  3\n",
       "1            he got a raise\\t  2\n",
       "2      she got me a present\\t  2\n",
       "3  ha ha ha it was so funny\\t  2\n",
       "4       he is a good friend\\t  2"
      ]
     },
     "execution_count": 4,
     "metadata": {},
     "output_type": "execute_result"
    }
   ],
   "source": [
    "test_data.head()"
   ]
  },
  {
   "cell_type": "markdown",
   "metadata": {},
   "source": [
    "### IMPORTING GloVe WORD EMBEDDINGS and PRE-PROCESSING DATASET"
   ]
  },
  {
   "cell_type": "code",
   "execution_count": 5,
   "metadata": {
    "collapsed": true
   },
   "outputs": [],
   "source": [
    "import numpy as np\n",
    "def read_glove_vecs(glove_file):\n",
    "  with open(glove_file, 'r', errors = 'ignore') as f:\n",
    "    words = set()\n",
    "    word_to_vec_map = {}\n",
    "    for line in f:\n",
    "      line = line.strip().split()\n",
    "      words.add(line[0])\n",
    "      word_to_vec_map[line[0]] = np.array(line[1:], dtype = np.float64)\n",
    "    \n",
    "    i = 1\n",
    "    words_to_index = {}\n",
    "    index_to_words = {}\n",
    "    for w in sorted(words):\n",
    "      words_to_index[w] = i\n",
    "      index_to_words[i] = w\n",
    "      i = i+1\n",
    "      \n",
    "  return words_to_index, index_to_words, word_to_vec_map"
   ]
  },
  {
   "cell_type": "code",
   "execution_count": 7,
   "metadata": {
    "collapsed": true
   },
   "outputs": [],
   "source": [
    "words_to_index, index_to_words, word_to_vec_map = read_glove_vecs('glove.6B.50d.txt')"
   ]
  },
  {
   "cell_type": "code",
   "execution_count": 8,
   "metadata": {},
   "outputs": [
    {
     "data": {
      "text/plain": [
       "113317"
      ]
     },
     "execution_count": 8,
     "metadata": {},
     "output_type": "execute_result"
    }
   ],
   "source": [
    "words_to_index['cucumber']"
   ]
  },
  {
   "cell_type": "code",
   "execution_count": 10,
   "metadata": {},
   "outputs": [
    {
     "data": {
      "text/plain": [
       "array([ 0.68224 , -0.31608 , -0.95201 ,  0.47108 ,  0.56571 ,  0.13151 ,\n",
       "        0.22457 ,  0.094995, -1.3237  , -0.51545 , -0.39337 ,  0.88488 ,\n",
       "        0.93826 ,  0.22931 ,  0.088624, -0.53908 ,  0.23396 ,  0.73245 ,\n",
       "       -0.019123, -0.26552 , -0.40433 , -1.5832  ,  1.1316  ,  0.4419  ,\n",
       "       -0.48218 ,  0.4828  ,  0.14938 ,  1.1245  ,  1.0159  , -0.50213 ,\n",
       "        0.83831 , -0.31303 ,  0.083242,  1.7161  ,  0.15024 ,  1.0324  ,\n",
       "       -1.5005  ,  0.62348 ,  0.54508 , -0.88484 ,  0.53279 , -0.085119,\n",
       "        0.02141 , -0.56629 ,  1.1463  ,  0.6464  ,  0.78318 , -0.067662,\n",
       "        0.22884 , -0.042453])"
      ]
     },
     "execution_count": 10,
     "metadata": {},
     "output_type": "execute_result"
    }
   ],
   "source": [
    "word_to_vec_map['cucumber']"
   ]
  },
  {
   "cell_type": "code",
   "execution_count": 11,
   "metadata": {
    "collapsed": true
   },
   "outputs": [],
   "source": [
    "X = train_data.ix[:,0]"
   ]
  },
  {
   "cell_type": "code",
   "execution_count": 12,
   "metadata": {},
   "outputs": [
    {
     "data": {
      "text/plain": [
       "(131,)"
      ]
     },
     "execution_count": 12,
     "metadata": {},
     "output_type": "execute_result"
    }
   ],
   "source": [
    "X.shape"
   ]
  },
  {
   "cell_type": "code",
   "execution_count": 18,
   "metadata": {},
   "outputs": [
    {
     "data": {
      "text/plain": [
       "(131,)"
      ]
     },
     "execution_count": 18,
     "metadata": {},
     "output_type": "execute_result"
    }
   ],
   "source": [
    "Y = train_data.ix[:,1]\n",
    "Y.shape"
   ]
  },
  {
   "cell_type": "markdown",
   "metadata": {},
   "source": [
    "Converting labels into one hot encodings"
   ]
  },
  {
   "cell_type": "code",
   "execution_count": 19,
   "metadata": {
    "collapsed": true
   },
   "outputs": [],
   "source": [
    "def one_hot(Y, C):\n",
    "    return np.eye(C)[Y.reshape(-1)]"
   ]
  },
  {
   "cell_type": "code",
   "execution_count": 20,
   "metadata": {
    "collapsed": true
   },
   "outputs": [],
   "source": [
    "l = []\n",
    "for i in range(len(Y)):\n",
    "    l.append(one_hot(Y[i], 5))\n",
    "Y = np.array(l)\n",
    "Y = Y.reshape((131, 5))"
   ]
  },
  {
   "cell_type": "code",
   "execution_count": 21,
   "metadata": {},
   "outputs": [
    {
     "data": {
      "text/plain": [
       "(131, 5)"
      ]
     },
     "execution_count": 21,
     "metadata": {},
     "output_type": "execute_result"
    }
   ],
   "source": [
    "Y.shape"
   ]
  },
  {
   "cell_type": "code",
   "execution_count": 22,
   "metadata": {},
   "outputs": [
    {
     "data": {
      "text/plain": [
       "array([ 0.,  0.,  1.,  0.,  0.])"
      ]
     },
     "execution_count": 22,
     "metadata": {},
     "output_type": "execute_result"
    }
   ],
   "source": [
    "Y[0]"
   ]
  },
  {
   "cell_type": "markdown",
   "metadata": {},
   "source": [
    "### Making Model"
   ]
  },
  {
   "cell_type": "code",
   "execution_count": 34,
   "metadata": {},
   "outputs": [],
   "source": [
    "import keras\n",
    "from keras.layers import Dense, Dropout, LSTM, Activation, Input\n",
    "from keras.models import Model\n",
    "from keras.layers.embeddings import Embedding"
   ]
  },
  {
   "cell_type": "code",
   "execution_count": 35,
   "metadata": {
    "collapsed": true
   },
   "outputs": [],
   "source": [
    "def sentences_to_indices(X, word_to_index, max_len):\n",
    "    m = X.shape[0]\n",
    "    X_indices = np.zeros((m, max_len))\n",
    "    for i in range(m):\n",
    "        sentence_words = X[i].lower().split()\n",
    "        j = 0\n",
    "        for w in sentence_words:\n",
    "            X_indices[i, j] = word_to_index[w]\n",
    "            j = j+1\n",
    "    return X_indices"
   ]
  },
  {
   "cell_type": "code",
   "execution_count": 36,
   "metadata": {
    "collapsed": true
   },
   "outputs": [],
   "source": [
    "def pretrained_embedding_layer(word_to_vec_map, word_to_index):\n",
    "    vocab_len = len(word_to_index) + 1   #adding 1 is requirement of keras\n",
    "    emb_len = word_to_vec_map['cucumber'].shape[0]\n",
    "    emb_matrix = np.zeros((vocab_len, emb_len))\n",
    "    \n",
    "    for word, index in word_to_index.items():\n",
    "        emb_matrix[index, :] = word_to_vec_map[word]\n",
    "    \n",
    "    embedding_layer = Embedding(vocab_len, emb_len, trainable = False)\n",
    "    embedding_layer.build((None,))  #Build the embedding layer, it is required before setting the weights of the embedding layer.\n",
    "    embedding_layer.set_weights([emb_matrix])\n",
    "    \n",
    "    return embedding_layer"
   ]
  },
  {
   "cell_type": "code",
   "execution_count": 37,
   "metadata": {
    "collapsed": true
   },
   "outputs": [],
   "source": [
    "embedding_layer = pretrained_embedding_layer(word_to_vec_map, words_to_index)"
   ]
  },
  {
   "cell_type": "code",
   "execution_count": 38,
   "metadata": {
    "collapsed": true
   },
   "outputs": [],
   "source": [
    "def LSTM_model(input_shape, word_to_vec_map, word_to_index):\n",
    "    sentence_indices = Input(shape = input_shape, dtype = np.int32)\n",
    "    embedding_layer = pretrained_embedding_layer(word_to_vec_map, words_to_index)\n",
    "    embeddings = embedding_layer(sentence_indices)\n",
    "    X = LSTM(128, return_sequences = True)(embeddings)\n",
    "    X = Dropout(0.5)(X)\n",
    "    X = LSTM(128, return_sequences = True)(X)\n",
    "    X = Dropout(0.5)(X)\n",
    "    X = LSTM(64, return_sequences = False)(X)\n",
    "    X = Dropout(0.25)(X)\n",
    "    X = Dense(5, activation = 'softmax')(X)\n",
    "    \n",
    "    model = Model(inputs = sentence_indices, outputs = X)\n",
    "    \n",
    "    return model"
   ]
  },
  {
   "cell_type": "code",
   "execution_count": 39,
   "metadata": {},
   "outputs": [],
   "source": [
    "maxlen = len(max(X, key = len).split())\n",
    "model = LSTM_model((maxlen,), word_to_vec_map, words_to_index)"
   ]
  },
  {
   "cell_type": "code",
   "execution_count": 40,
   "metadata": {},
   "outputs": [
    {
     "name": "stdout",
     "output_type": "stream",
     "text": [
      "_________________________________________________________________\n",
      "Layer (type)                 Output Shape              Param #   \n",
      "=================================================================\n",
      "input_1 (InputLayer)         (None, 10)                0         \n",
      "_________________________________________________________________\n",
      "embedding_4 (Embedding)      (None, 10, 50)            20000050  \n",
      "_________________________________________________________________\n",
      "lstm_1 (LSTM)                (None, 10, 128)           91648     \n",
      "_________________________________________________________________\n",
      "dropout_1 (Dropout)          (None, 10, 128)           0         \n",
      "_________________________________________________________________\n",
      "lstm_2 (LSTM)                (None, 10, 128)           131584    \n",
      "_________________________________________________________________\n",
      "dropout_2 (Dropout)          (None, 10, 128)           0         \n",
      "_________________________________________________________________\n",
      "lstm_3 (LSTM)                (None, 64)                49408     \n",
      "_________________________________________________________________\n",
      "dropout_3 (Dropout)          (None, 64)                0         \n",
      "_________________________________________________________________\n",
      "dense_1 (Dense)              (None, 5)                 325       \n",
      "=================================================================\n",
      "Total params: 20,273,015\n",
      "Trainable params: 272,965\n",
      "Non-trainable params: 20,000,050\n",
      "_________________________________________________________________\n"
     ]
    }
   ],
   "source": [
    "model.summary()"
   ]
  },
  {
   "cell_type": "markdown",
   "metadata": {},
   "source": [
    "### Visualising model"
   ]
  },
  {
   "cell_type": "code",
   "execution_count": null,
   "metadata": {
    "collapsed": true
   },
   "outputs": [],
   "source": []
  },
  {
   "cell_type": "code",
   "execution_count": 41,
   "metadata": {
    "collapsed": true
   },
   "outputs": [],
   "source": [
    "model.compile(loss = 'categorical_crossentropy', optimizer = 'adam', metrics = ['accuracy'])"
   ]
  },
  {
   "cell_type": "code",
   "execution_count": 42,
   "metadata": {
    "collapsed": true
   },
   "outputs": [],
   "source": [
    "X = sentences_to_indices(X, words_to_index, maxlen)"
   ]
  },
  {
   "cell_type": "code",
   "execution_count": 44,
   "metadata": {},
   "outputs": [
    {
     "data": {
      "text/plain": [
       "(131, 10)"
      ]
     },
     "execution_count": 44,
     "metadata": {},
     "output_type": "execute_result"
    }
   ],
   "source": [
    "X.shape"
   ]
  },
  {
   "cell_type": "code",
   "execution_count": 45,
   "metadata": {},
   "outputs": [
    {
     "name": "stdout",
     "output_type": "stream",
     "text": [
      "Epoch 1/50\n",
      "131/131 [==============================] - 0s - loss: 1.5947 - acc: 0.2595     \n",
      "Epoch 2/50\n",
      "131/131 [==============================] - 0s - loss: 1.5299 - acc: 0.3511     \n",
      "Epoch 3/50\n",
      "131/131 [==============================] - 0s - loss: 1.4793 - acc: 0.3282     \n",
      "Epoch 4/50\n",
      "131/131 [==============================] - 0s - loss: 1.4426 - acc: 0.3817     \n",
      "Epoch 5/50\n",
      "131/131 [==============================] - 0s - loss: 1.3378 - acc: 0.5344     - ETA: 0s - loss: 1.3955 - acc: 0.4\n",
      "Epoch 6/50\n",
      "131/131 [==============================] - 0s - loss: 1.2271 - acc: 0.6412     \n",
      "Epoch 7/50\n",
      "131/131 [==============================] - 0s - loss: 1.0670 - acc: 0.6641     \n",
      "Epoch 8/50\n",
      "131/131 [==============================] - 0s - loss: 0.9823 - acc: 0.6641     \n",
      "Epoch 9/50\n",
      "131/131 [==============================] - 0s - loss: 0.9064 - acc: 0.6031     \n",
      "Epoch 10/50\n",
      "131/131 [==============================] - 0s - loss: 0.7905 - acc: 0.7252     - ETA: 0s - loss: 0.8444 - acc: 0.6\n",
      "Epoch 11/50\n",
      "131/131 [==============================] - 0s - loss: 0.6947 - acc: 0.7405     \n",
      "Epoch 12/50\n",
      "131/131 [==============================] - 0s - loss: 0.6696 - acc: 0.6870     \n",
      "Epoch 13/50\n",
      "131/131 [==============================] - 0s - loss: 0.5701 - acc: 0.8015     \n",
      "Epoch 14/50\n",
      "131/131 [==============================] - 0s - loss: 0.5303 - acc: 0.8244     \n",
      "Epoch 15/50\n",
      "131/131 [==============================] - 0s - loss: 0.4478 - acc: 0.8397     - ETA: 0s - loss: 0.5270 - acc: 0.79 - ETA: 0s - loss: 0.4447 - acc: 0.843\n",
      "Epoch 16/50\n",
      "131/131 [==============================] - 0s - loss: 0.5225 - acc: 0.7710     \n",
      "Epoch 17/50\n",
      "131/131 [==============================] - 0s - loss: 0.4966 - acc: 0.7939     \n",
      "Epoch 18/50\n",
      "131/131 [==============================] - 0s - loss: 0.5294 - acc: 0.8244     \n",
      "Epoch 19/50\n",
      "131/131 [==============================] - 0s - loss: 0.4061 - acc: 0.8550     \n",
      "Epoch 20/50\n",
      "131/131 [==============================] - 0s - loss: 0.4249 - acc: 0.8779     \n",
      "Epoch 21/50\n",
      "131/131 [==============================] - 0s - loss: 0.3534 - acc: 0.8931     \n",
      "Epoch 22/50\n",
      "131/131 [==============================] - 0s - loss: 0.3169 - acc: 0.9084     \n",
      "Epoch 23/50\n",
      "131/131 [==============================] - 0s - loss: 0.2844 - acc: 0.9084     \n",
      "Epoch 24/50\n",
      "131/131 [==============================] - 0s - loss: 0.3099 - acc: 0.9008     \n",
      "Epoch 25/50\n",
      "131/131 [==============================] - 0s - loss: 0.2307 - acc: 0.9237     - ETA: 0s - loss: 0.2596 - acc: 0.91\n",
      "Epoch 26/50\n",
      "131/131 [==============================] - 0s - loss: 0.1738 - acc: 0.9542     \n",
      "Epoch 27/50\n",
      "131/131 [==============================] - 0s - loss: 0.1646 - acc: 0.9542     \n",
      "Epoch 28/50\n",
      "131/131 [==============================] - 0s - loss: 0.4205 - acc: 0.8931     \n",
      "Epoch 29/50\n",
      "131/131 [==============================] - 0s - loss: 0.3859 - acc: 0.8855     \n",
      "Epoch 30/50\n",
      "131/131 [==============================] - 0s - loss: 0.3215 - acc: 0.8855     \n",
      "Epoch 31/50\n",
      "131/131 [==============================] - 0s - loss: 0.2586 - acc: 0.9084     \n",
      "Epoch 32/50\n",
      "131/131 [==============================] - 0s - loss: 0.2305 - acc: 0.9237     \n",
      "Epoch 33/50\n",
      "131/131 [==============================] - 0s - loss: 0.2861 - acc: 0.9008     \n",
      "Epoch 34/50\n",
      "131/131 [==============================] - 0s - loss: 0.2222 - acc: 0.9160     \n",
      "Epoch 35/50\n",
      "131/131 [==============================] - 0s - loss: 0.1781 - acc: 0.9542     \n",
      "Epoch 36/50\n",
      "131/131 [==============================] - 0s - loss: 0.1955 - acc: 0.9389     \n",
      "Epoch 37/50\n",
      "131/131 [==============================] - 0s - loss: 0.1459 - acc: 0.9466     \n",
      "Epoch 38/50\n",
      "131/131 [==============================] - 0s - loss: 0.1630 - acc: 0.9466     \n",
      "Epoch 39/50\n",
      "131/131 [==============================] - 0s - loss: 0.1538 - acc: 0.9466     \n",
      "Epoch 40/50\n",
      "131/131 [==============================] - 0s - loss: 0.1356 - acc: 0.9695     \n",
      "Epoch 41/50\n",
      "131/131 [==============================] - 0s - loss: 0.1353 - acc: 0.9695     \n",
      "Epoch 42/50\n",
      "131/131 [==============================] - 0s - loss: 0.1024 - acc: 0.9847     \n",
      "Epoch 43/50\n",
      "131/131 [==============================] - 0s - loss: 0.0907 - acc: 0.9847     - ETA: 0s - loss: 0.0484 - acc: 1.0\n",
      "Epoch 44/50\n",
      "131/131 [==============================] - 0s - loss: 0.0769 - acc: 0.9847     \n",
      "Epoch 45/50\n",
      "131/131 [==============================] - 0s - loss: 0.1378 - acc: 0.9466     - ETA: 0s - loss: 0.1370 - acc: 0.945\n",
      "Epoch 46/50\n",
      "131/131 [==============================] - 0s - loss: 0.0583 - acc: 0.9771     \n",
      "Epoch 47/50\n",
      "131/131 [==============================] - 0s - loss: 0.0708 - acc: 0.9771     \n",
      "Epoch 48/50\n",
      "131/131 [==============================] - 0s - loss: 0.0654 - acc: 0.9771     \n",
      "Epoch 49/50\n",
      "131/131 [==============================] - 0s - loss: 0.0570 - acc: 0.9695     \n",
      "Epoch 50/50\n",
      "131/131 [==============================] - 0s - loss: 0.0819 - acc: 0.9695     \n"
     ]
    },
    {
     "data": {
      "text/plain": [
       "<keras.callbacks.History at 0x7f6ffbb19390>"
      ]
     },
     "execution_count": 45,
     "metadata": {},
     "output_type": "execute_result"
    }
   ],
   "source": [
    "model.fit(X, Y, epochs = 50, batch_size = 32, shuffle = True)"
   ]
  },
  {
   "cell_type": "markdown",
   "metadata": {},
   "source": [
    "### Testing performance on Test set"
   ]
  },
  {
   "cell_type": "code",
   "execution_count": 48,
   "metadata": {},
   "outputs": [
    {
     "data": {
      "text/plain": [
       "(55, 10)"
      ]
     },
     "execution_count": 48,
     "metadata": {},
     "output_type": "execute_result"
    }
   ],
   "source": [
    "X_test = test_data.ix[:,0]\n",
    "X_test = sentences_to_indices(X_test, words_to_index, maxlen)\n",
    "X_test.shape"
   ]
  },
  {
   "cell_type": "code",
   "execution_count": 52,
   "metadata": {
    "collapsed": true
   },
   "outputs": [],
   "source": [
    "Y_test = test_data.ix[:,1]"
   ]
  },
  {
   "cell_type": "code",
   "execution_count": 54,
   "metadata": {},
   "outputs": [],
   "source": [
    "l = []\n",
    "for i in range(len(Y_test)):\n",
    "    l.append(one_hot(Y_test[i], 5))\n",
    "Y_test = np.array(l)"
   ]
  },
  {
   "cell_type": "code",
   "execution_count": 56,
   "metadata": {},
   "outputs": [],
   "source": [
    "Y_test = Y_test.reshape((55, 5))"
   ]
  },
  {
   "cell_type": "code",
   "execution_count": 58,
   "metadata": {},
   "outputs": [
    {
     "name": "stdout",
     "output_type": "stream",
     "text": [
      "32/55 [================>.............] - ETA: 0s\n",
      "Test accuracy =  0.836363624443\n"
     ]
    }
   ],
   "source": [
    "loss, acc = model.evaluate(X_test, Y_test)\n",
    "print()\n",
    "print(\"Test accuracy = \", acc)"
   ]
  },
  {
   "cell_type": "markdown",
   "metadata": {},
   "source": [
    "### Code to convert label to emoji"
   ]
  },
  {
   "cell_type": "code",
   "execution_count": 59,
   "metadata": {
    "collapsed": true
   },
   "outputs": [],
   "source": [
    "import emoji"
   ]
  },
  {
   "cell_type": "code",
   "execution_count": 66,
   "metadata": {},
   "outputs": [],
   "source": [
    "emoji_dictionary = {\"0\": \"\\u2764\\uFE0F\",    # :heart: prints a black instead of red heart depending on the font\n",
    "                    \"1\": \":baseball:\",\n",
    "                    \"2\": \":smile:\",\n",
    "                    \"3\": \":disappointed:\",\n",
    "                    \"4\": \":fork_and_knife:\"}\n",
    "def label_to_emoji(label):\n",
    "    return emoji.emojize(emoji_dictionary[str(label)], use_aliases = True)"
   ]
  },
  {
   "cell_type": "markdown",
   "metadata": {},
   "source": [
    "### Predicting emoji for a text"
   ]
  },
  {
   "cell_type": "code",
   "execution_count": 70,
   "metadata": {},
   "outputs": [
    {
     "name": "stdout",
     "output_type": "stream",
     "text": [
      "[  1.85457000e+05   5.29430000e+04   3.77946000e+05   1.42393000e+05\n",
      "   1.00000000e+00   0.00000000e+00   0.00000000e+00   0.00000000e+00\n",
      "   0.00000000e+00   0.00000000e+00]\n",
      "😄\n"
     ]
    }
   ],
   "source": [
    "x_test = np.array(['i am very excited !'])\n",
    "x_test = sentences_to_indices(x_test, words_to_index, maxlen)\n",
    "print(x_test[0])\n",
    "print(label_to_emoji(np.argmax(model.predict(x_test))))"
   ]
  },
  {
   "cell_type": "code",
   "execution_count": null,
   "metadata": {
    "collapsed": true
   },
   "outputs": [],
   "source": []
  }
 ],
 "metadata": {
  "kernelspec": {
   "display_name": "Python 3",
   "language": "python",
   "name": "python3"
  },
  "language_info": {
   "codemirror_mode": {
    "name": "ipython",
    "version": 3
   },
   "file_extension": ".py",
   "mimetype": "text/x-python",
   "name": "python",
   "nbconvert_exporter": "python",
   "pygments_lexer": "ipython3",
   "version": "3.6.0"
  }
 },
 "nbformat": 4,
 "nbformat_minor": 2
}
